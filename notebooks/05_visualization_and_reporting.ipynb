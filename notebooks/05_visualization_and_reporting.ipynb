{
 "cells": [
  {
   "cell_type": "markdown",
   "metadata": {},
   "source": [
    "# 5. Visualization and Reporting\n",
    "\n",
    "## Objectives\n",
    "- Create publication-quality visualizations\n",
    "- Generate final performance reports\n",
    "- Prepare results for presentation"
   ]
  },
  {
   "cell_type": "code",
   "execution_count": null,
   "metadata": {},
   "source": [
    "# Import libraries\n",
    "import matplotlib.pyplot as plt\n",
    "import seaborn as sns\n",
    "import pandas as pd\n",
    "import numpy as np\n",
    "from matplotlib import rcParams\n",
    "import plotly.express as px"
   ],
   "outputs": []
  },
  {
   "cell_type": "code",
   "execution_count": null,
   "metadata": {},
   "source": [
    "# Set plot style\n",
    "plt.style.use('seaborn-darkgrid')\n",
    "rcParams['figure.figsize'] = (12, 6)\n",
    "rcParams['font.size'] = 12\n",
    "rcParams['axes.labelsize'] = 14\n",
    "rcParams['axes.titlesize'] = 16"
   ],
   "outputs": []
  },
  {
   "cell_type": "markdown",
   "metadata": {},
   "source": [
    "## Visualization Types\n",
    "1. Performance comparison charts\n",
    "2. Confusion matrices\n",
    "3. Feature importance plots\n",
    "4. Training progress visualizations\n",
    "5. Interactive visualizations with Plotly"
   ]
  },
  {
   "cell_type": "code",
   "execution_count": null,
   "metadata": {},
   "source": [
    "# Example: Create performance comparison plot\n",
    "def plot_model_comparison(metrics, metric_name='Accuracy'):\n",
    "    models = list(metrics.keys())\n",
    "    scores = [metrics[m][metric_name] for m in models]\n",
    "    \n",
    "    plt.figure(figsize=(10, 6))\n",
    "    sns.barplot(x=models, y=scores)\n",
    "    plt.title(f'Model Comparison - {metric_name}')\n",
    "    plt.xticks(rotation=45)\n",
    "    plt.tight_layout()\n",
    "    plt.savefig(f'../results/figures/model_comparison_{metric_name.lower()}.png')\n",
    "    plt.show()"
   ],
   "outputs": []
  },
  {
   "cell_type": "markdown",
   "metadata": {},
   "source": [
    "## Report Generation\n",
    "- Generate summary statistics\n",
    "- Create markdown reports\n",
    "- Export visualizations for papers/presentations"
   ]
  }
 ],
 "metadata": {
  "kernelspec": {
   "display_name": "Python 3",
   "language": "python",
   "name": "python3"
  },
  "language_info": {
   "codemirror_mode": {
    "name": "ipython",
    "version": 3
   },
   "file_extension": ".py",
   "mimetype": "text/x-python",
   "name": "python",
   "nbconvert_exporter": "python",
   "pygments_lexer": "ipython3",
   "version": "3.8.0"
  }
 },
 "nbformat": 4,
 "nbformat_minor": 4
}
